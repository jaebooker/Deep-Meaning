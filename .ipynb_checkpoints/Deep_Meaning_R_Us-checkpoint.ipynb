{
 "cells": [
  {
   "cell_type": "code",
   "execution_count": 1,
   "metadata": {},
   "outputs": [
    {
     "name": "stderr",
     "output_type": "stream",
     "text": [
      "Using TensorFlow backend.\n"
     ]
    }
   ],
   "source": [
    "from keras.models import Sequential, Model\n",
    "from keras.layers import Dense, Dropout, Activation, Lambda, Input\n",
    "from keras.optimizers import SGD\n",
    "from keras.utils import np_utils\n",
    "from sklearn.preprocessing import LabelEncoder\n",
    "from sklearn import datasets\n",
    "from sklearn.model_selection import train_test_split\n",
    "from sklearn.preprocessing import StandardScaler\n",
    "from sklearn.linear_model import LinearRegression\n",
    "from sklearn.datasets import load_boston\n",
    "from sklearn.metrics import mean_squared_error\n",
    "from sklearn.metrics import r2_score\n",
    "import numpy as np\n",
    "import pandas as pd"
   ]
  },
  {
   "cell_type": "code",
   "execution_count": 3,
   "metadata": {},
   "outputs": [],
   "source": [
    "sdb = pd.read_csv(\"Shakespeare-plays/Shakespeare_data.csv\")"
   ]
  },
  {
   "cell_type": "code",
   "execution_count": 5,
   "metadata": {},
   "outputs": [],
   "source": [
    "class_names = ['comedy','tragedy','other']"
   ]
  },
  {
   "cell_type": "code",
   "execution_count": 9,
   "metadata": {},
   "outputs": [],
   "source": [
    "def all_the_plays():\n",
    "    new_play = \"Henry IV\"\n",
    "    play_array = []\n",
    "    for i in sdb['Play']:\n",
    "        if i != new_play:\n",
    "            play_array.append(new_play)\n",
    "            new_play = i\n",
    "    return play_array"
   ]
  },
  {
   "cell_type": "code",
   "execution_count": 10,
   "metadata": {},
   "outputs": [],
   "source": [
    "all_plays = all_the_plays()"
   ]
  },
  {
   "cell_type": "code",
   "execution_count": 12,
   "metadata": {},
   "outputs": [],
   "source": [
    "def get_text(play_name):\n",
    "    play = sdb[sdb['Play']==play_name]\n",
    "    w = play['PlayerLine']\n",
    "    text = \"\"\n",
    "    for i in w:\n",
    "        text += i\n",
    "        text += \" \"\n",
    "    return text"
   ]
  },
  {
   "cell_type": "code",
   "execution_count": 17,
   "metadata": {},
   "outputs": [],
   "source": [
    "comedy_training = []\n",
    "tragedy_training = []\n",
    "history_training = []"
   ]
  },
  {
   "cell_type": "code",
   "execution_count": 80,
   "metadata": {},
   "outputs": [],
   "source": [
    "def get_training_text():\n",
    "    comedy_training.append(get_text(\"Alls well that ends well\"))\n",
    "    comedy_training.append(get_text(\"As you like it\"))\n",
    "    comedy_training.append(get_text(\"Loves Labours Lost\"))\n",
    "    comedy_training.append(get_text(\"Measure for measure\"))\n",
    "    comedy_training.append(get_text(\"Merry Wives of Windsor\"))\n",
    "    comedy_training.append(get_text(\"A Midsummer nights dream\"))\n",
    "    comedy_training.append(get_text(\"Taming of the Shrew\"))\n",
    "    comedy_training.append(get_text(\"The Tempest\"))\n",
    "    comedy_training.append(get_text(\"Two Gentlemen of Verona\"))\n",
    "    comedy_training.append(get_text(\"Winters Tale\"))\n",
    "    tragedy_training.append(get_text(\"Antony and Cleopatra\"))\n",
    "    tragedy_training.append(get_text(\"Coriolanus\"))\n",
    "    tragedy_training.append(get_text(\"Hamlet\"))\n",
    "    tragedy_training.append(get_text(\"Julius Caesar\"))\n",
    "    tragedy_training.append(get_text(\"Macbeth\"))\n",
    "    tragedy_training.append(get_text(\"Othello\"))\n",
    "    tragedy_training.append(get_text(\"Timon of Athens\"))\n",
    "    tragedy_training.append(get_text(\"Titus Andronicus\"))\n",
    "    history_training.append(get_text(\"Henry IV, Part I\"))\n",
    "    history_training.append(get_text(\"Henry IV, Part II\"))\n",
    "    history_training.append(get_text(\"Henry VI, Part I\"))\n",
    "    history_training.append(get_text(\"Henry VI, Part II\"))\n",
    "    history_training.append(get_text(\"Henry VIII\"))\n",
    "    history_training.append(get_text(\"King John\"))\n",
    "    history_training.append(get_text(\"Richard II\"))"
   ]
  },
  {
   "cell_type": "code",
   "execution_count": 19,
   "metadata": {},
   "outputs": [],
   "source": [
    "comedy_testing = []\n",
    "tragedy_testing = []\n",
    "history_testing = []"
   ]
  },
  {
   "cell_type": "code",
   "execution_count": 20,
   "metadata": {},
   "outputs": [],
   "source": [
    "def get_testing_text():\n",
    "    comedy_testing.append(get_text(\"A Comedy of Errors\"))\n",
    "    comedy_testing.append(get_text(\"Merchant of Venice\"))\n",
    "    comedy_testing.append(get_text(\"Much Ado about nothing\"))\n",
    "    comedy_testing.append(get_text(\"Twelfth Night\"))\n",
    "    tragedy_testing.append(get_text(\"Cymbeline\"))\n",
    "    tragedy_testing.append(get_text(\"King Lear\"))\n",
    "    tragedy_testing.append(get_text(\"Romeo and Juliet\"))\n",
    "    tragedy_testing.append(get_text(\"Troilus and Cressida\"))\n",
    "    history_testing.append(get_text(\"Henry V\"))\n",
    "    history_testing.append(get_text(\"Henry VI Part 3\"))\n",
    "    history_testing.append(get_text(\"Pericles\"))\n",
    "    history_testing.append(get_text(\"Richard III\"))"
   ]
  },
  {
   "cell_type": "code",
   "execution_count": 21,
   "metadata": {},
   "outputs": [],
   "source": [
    "get_training_text()\n",
    "get_testing_text()"
   ]
  },
  {
   "cell_type": "code",
   "execution_count": 34,
   "metadata": {},
   "outputs": [],
   "source": [
    "comedy_testing[0]  = get_text(\"A Comedy of Errors\")"
   ]
  },
  {
   "cell_type": "code",
   "execution_count": 50,
   "metadata": {},
   "outputs": [],
   "source": [
    "comedy_testing[2] = get_text(\"Much Ado about nothing\")"
   ]
  },
  {
   "cell_type": "code",
   "execution_count": 65,
   "metadata": {},
   "outputs": [],
   "source": [
    "# sdb[sdb['Play']==\"Henry VI Part 3\"]"
   ]
  },
  {
   "cell_type": "code",
   "execution_count": 77,
   "metadata": {},
   "outputs": [
    {
     "data": {
      "text/plain": [
       "['Henry IV',\n",
       " 'Henry VI Part 1',\n",
       " 'Henry VI Part 2',\n",
       " 'Henry VI Part 3',\n",
       " 'Alls well that ends well',\n",
       " 'As you like it',\n",
       " 'Antony and Cleopatra',\n",
       " 'A Comedy of Errors',\n",
       " 'Coriolanus',\n",
       " 'Cymbeline',\n",
       " 'Hamlet',\n",
       " 'Henry V',\n",
       " 'Henry VIII',\n",
       " 'King John',\n",
       " 'Julius Caesar',\n",
       " 'King Lear',\n",
       " 'Loves Labours Lost',\n",
       " 'macbeth',\n",
       " 'Measure for measure',\n",
       " 'Merchant of Venice',\n",
       " 'Merry Wives of Windsor',\n",
       " 'A Midsummer nights dream',\n",
       " 'Much Ado about nothing',\n",
       " 'Othello',\n",
       " 'Pericles',\n",
       " 'Richard II',\n",
       " 'Richard III',\n",
       " 'Romeo and Juliet',\n",
       " 'Taming of the Shrew',\n",
       " 'The Tempest',\n",
       " 'Timon of Athens',\n",
       " 'Titus Andronicus',\n",
       " 'Troilus and Cressida',\n",
       " 'Twelfth Night',\n",
       " 'Two Gentlemen of Verona']"
      ]
     },
     "execution_count": 77,
     "metadata": {},
     "output_type": "execute_result"
    }
   ],
   "source": [
    "all_plays"
   ]
  },
  {
   "cell_type": "code",
   "execution_count": 68,
   "metadata": {},
   "outputs": [],
   "source": [
    "history_testing[1] = get_text(\"Henry VI Part 3\")"
   ]
  },
  {
   "cell_type": "code",
   "execution_count": 79,
   "metadata": {},
   "outputs": [
    {
     "data": {
      "text/plain": [
       "''"
      ]
     },
     "execution_count": 79,
     "metadata": {},
     "output_type": "execute_result"
    }
   ],
   "source": [
    "comedy_training[3]"
   ]
  },
  {
   "cell_type": "code",
   "execution_count": null,
   "metadata": {},
   "outputs": [],
   "source": []
  }
 ],
 "metadata": {
  "kernelspec": {
   "display_name": "Python 3",
   "language": "python",
   "name": "python3"
  },
  "language_info": {
   "codemirror_mode": {
    "name": "ipython",
    "version": 3
   },
   "file_extension": ".py",
   "mimetype": "text/x-python",
   "name": "python",
   "nbconvert_exporter": "python",
   "pygments_lexer": "ipython3",
   "version": "3.7.0"
  }
 },
 "nbformat": 4,
 "nbformat_minor": 2
}
